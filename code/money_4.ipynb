{
 "cells": [
  {
   "cell_type": "markdown",
   "metadata": {},
   "source": [
    "# Banknote Authentication"
   ]
  },
  {
   "cell_type": "markdown",
   "metadata": {},
   "source": [
    "## Data Set Information:"
   ]
  },
  {
   "cell_type": "markdown",
   "metadata": {},
   "source": [
    "Les données ont été extraites des images qui ont été prises pour l'évaluation d'une procédure d'authentification pour les billets de banque.<br>(Owner of database: Volker Lohweg, University of Applied Sciences, Ostwestfalen-Lippe)\n",
    "<ul>\n",
    "<li>Nombre d'instances : 1372</li>\n",
    "<li>Type : réel</li>\n",
    "<li>Nombre de caractéristiques : 4</li>\n",
    "\n",
    "<ul>\n",
    "<li>X1 : variance </li>\n",
    "<li>X2 : skewness </li>\n",
    "<li>X3 : curtosis </li>\n",
    "<li>X4 : entropy </li>\n",
    "</ul>\n",
    "\n",
    "<li>Tâche : Classification</li>\n",
    "</ul>"
   ]
  },
  {
   "cell_type": "markdown",
   "metadata": {},
   "source": [
    "## Architecture"
   ]
  },
  {
   "cell_type": "markdown",
   "metadata": {},
   "source": [
    "<img src=\"images/nn_2layers.png\">"
   ]
  },
  {
   "cell_type": "markdown",
   "metadata": {},
   "source": [
    "<img src=\"images/nn_2layers_1.png\">"
   ]
  },
  {
   "cell_type": "markdown",
   "metadata": {},
   "source": [
    "# HEADERS"
   ]
  },
  {
   "cell_type": "code",
   "execution_count": 1,
   "metadata": {
    "collapsed": true
   },
   "outputs": [],
   "source": [
    "import tensorflow as tf\n",
    "import numpy as np\n",
    "import pandas as pan"
   ]
  },
  {
   "cell_type": "code",
   "execution_count": 2,
   "metadata": {
    "collapsed": true
   },
   "outputs": [],
   "source": [
    "learning_rate = 0.01\n",
    "epochs = 500\n",
    "step_display = 50"
   ]
  },
  {
   "cell_type": "markdown",
   "metadata": {},
   "source": [
    "# 1. DATA"
   ]
  },
  {
   "cell_type": "markdown",
   "metadata": {},
   "source": [
    "### 1.1. Load Data"
   ]
  },
  {
   "cell_type": "code",
   "execution_count": 3,
   "metadata": {
    "collapsed": true
   },
   "outputs": [],
   "source": [
    "data = pan.read_csv('data/money.csv')"
   ]
  },
  {
   "cell_type": "code",
   "execution_count": 4,
   "metadata": {
    "collapsed": false
   },
   "outputs": [
    {
     "data": {
      "text/html": [
       "<div>\n",
       "<table border=\"1\" class=\"dataframe\">\n",
       "  <thead>\n",
       "    <tr style=\"text-align: right;\">\n",
       "      <th></th>\n",
       "      <th>X1</th>\n",
       "      <th>X2</th>\n",
       "      <th>X3</th>\n",
       "      <th>X4</th>\n",
       "      <th>Label1</th>\n",
       "      <th>Label2</th>\n",
       "    </tr>\n",
       "  </thead>\n",
       "  <tbody>\n",
       "    <tr>\n",
       "      <th>0</th>\n",
       "      <td>-0.025314</td>\n",
       "      <td>-0.17383</td>\n",
       "      <td>-0.11339</td>\n",
       "      <td>1.21980</td>\n",
       "      <td>1</td>\n",
       "      <td>0</td>\n",
       "    </tr>\n",
       "    <tr>\n",
       "      <th>1</th>\n",
       "      <td>5.807000</td>\n",
       "      <td>5.00970</td>\n",
       "      <td>-2.23840</td>\n",
       "      <td>0.43878</td>\n",
       "      <td>0</td>\n",
       "      <td>1</td>\n",
       "    </tr>\n",
       "    <tr>\n",
       "      <th>2</th>\n",
       "      <td>-2.434900</td>\n",
       "      <td>-9.24970</td>\n",
       "      <td>8.99220</td>\n",
       "      <td>-0.50001</td>\n",
       "      <td>1</td>\n",
       "      <td>0</td>\n",
       "    </tr>\n",
       "    <tr>\n",
       "      <th>3</th>\n",
       "      <td>-1.693600</td>\n",
       "      <td>2.78520</td>\n",
       "      <td>-2.18350</td>\n",
       "      <td>-1.92760</td>\n",
       "      <td>1</td>\n",
       "      <td>0</td>\n",
       "    </tr>\n",
       "    <tr>\n",
       "      <th>4</th>\n",
       "      <td>0.636550</td>\n",
       "      <td>5.20220</td>\n",
       "      <td>-5.21590</td>\n",
       "      <td>-6.12110</td>\n",
       "      <td>1</td>\n",
       "      <td>0</td>\n",
       "    </tr>\n",
       "  </tbody>\n",
       "</table>\n",
       "</div>"
      ],
      "text/plain": [
       "         X1       X2       X3       X4  Label1  Label2\n",
       "0 -0.025314 -0.17383 -0.11339  1.21980       1       0\n",
       "1  5.807000  5.00970 -2.23840  0.43878       0       1\n",
       "2 -2.434900 -9.24970  8.99220 -0.50001       1       0\n",
       "3 -1.693600  2.78520 -2.18350 -1.92760       1       0\n",
       "4  0.636550  5.20220 -5.21590 -6.12110       1       0"
      ]
     },
     "execution_count": 4,
     "metadata": {},
     "output_type": "execute_result"
    }
   ],
   "source": [
    "data[0 :5]"
   ]
  },
  {
   "cell_type": "markdown",
   "metadata": {},
   "source": [
    "### 1.2. Train data"
   ]
  },
  {
   "cell_type": "code",
   "execution_count": 5,
   "metadata": {
    "collapsed": true
   },
   "outputs": [],
   "source": [
    "x_train = data.loc[0:1000, ['X1', 'X2', 'X3', 'X4']].as_matrix()\n",
    "y_train = data.loc[0:1000, ['Label1', 'Label2']].as_matrix()"
   ]
  },
  {
   "cell_type": "markdown",
   "metadata": {},
   "source": [
    "### 1.3. Test data"
   ]
  },
  {
   "cell_type": "code",
   "execution_count": 6,
   "metadata": {
    "collapsed": true
   },
   "outputs": [],
   "source": [
    "x_test = data.loc[1001: len(data), ['X1', 'X2', 'X3', 'X4']].as_matrix()\n",
    "y_test = data.loc[1001: len(data), ['Label1', 'Label2']].as_matrix()"
   ]
  },
  {
   "cell_type": "markdown",
   "metadata": {},
   "source": [
    "# 2. BUILD GRAPH"
   ]
  },
  {
   "cell_type": "markdown",
   "metadata": {},
   "source": [
    "### 2.1. Placholders"
   ]
  },
  {
   "cell_type": "code",
   "execution_count": 7,
   "metadata": {
    "collapsed": true
   },
   "outputs": [],
   "source": [
    "x = tf.placeholder(tf.float32, shape=[None, 4], name='X')\n",
    "y = tf.placeholder(tf.float32, shape=[None, 2], name='Y')"
   ]
  },
  {
   "cell_type": "markdown",
   "metadata": {},
   "source": [
    "### 2.2. Weights and Biases"
   ]
  },
  {
   "cell_type": "markdown",
   "metadata": {},
   "source": [
    "### 2.3. Model"
   ]
  },
  {
   "cell_type": "code",
   "execution_count": 8,
   "metadata": {
    "collapsed": true
   },
   "outputs": [],
   "source": [
    "def layer(x, size_in, size_out, name=\"Layer\"):    \n",
    "    with tf.name_scope(name):        \n",
    "        w = tf.Variable(tf.zeros([size_in, size_out]), name='weight')\n",
    "        b = tf.Variable(tf.zeros([size_out]), name='biais')\n",
    "        z = tf.matmul(x, w) + b\n",
    "        a = tf.sigmoid(z)\n",
    "        tf.summary.histogram(\"weight\", w)\n",
    "        tf.summary.histogram(\"biais\", b)\n",
    "        tf.summary.histogram(\"Activation\", a)\n",
    "        return a"
   ]
  },
  {
   "cell_type": "code",
   "execution_count": 9,
   "metadata": {
    "collapsed": false
   },
   "outputs": [],
   "source": [
    "Layer_1 = layer(x      , 4, 4, name=\"layer_1\")\n",
    "Layer_2 = layer(Layer_1, 4, 4, name=\"layer_2\")\n",
    "Layer_3 = layer(Layer_2, 4, 2, name=\"layer_3\")"
   ]
  },
  {
   "cell_type": "markdown",
   "metadata": {},
   "source": [
    "## Train params"
   ]
  },
  {
   "cell_type": "markdown",
   "metadata": {},
   "source": [
    "## Def train"
   ]
  },
  {
   "cell_type": "code",
   "execution_count": 10,
   "metadata": {
    "collapsed": false
   },
   "outputs": [],
   "source": [
    "def train_model(learning_rate, writer): \n",
    "    \n",
    "    # 1. NAME SCOPE\n",
    "    with tf.name_scope(\"softmax\"):\n",
    "        y_pred = tf.nn.softmax(Layer_3)    \n",
    "    \n",
    "    with tf.name_scope(\"Error\"):\n",
    "        cross_entropy = tf.reduce_mean(-tf.reduce_sum(y * tf.log(y_pred)))    \n",
    "        tf.summary.scalar(\"Error\", cross_entropy)\n",
    "    \n",
    "    with tf.name_scope(\"Train\"):\n",
    "        optimiser = tf.train.AdamOptimizer(learning_rate).minimize(cross_entropy)    \n",
    "    \n",
    "    with tf.name_scope('Accuracy'):\n",
    "        correct_prediction = tf.equal(tf.argmax(y_pred,1), tf.argmax(y,1))\n",
    "        final_acc = tf.reduce_mean(tf.cast(correct_prediction, tf.float32))*100\n",
    "        tf.summary.scalar(\"Accuracy\", final_acc)\n",
    "\n",
    "    # 2. SESSION        \n",
    "    sess = tf.Session()\n",
    "    sess.run(tf.global_variables_initializer())\n",
    "    \n",
    "    # 3. SUMMARY \n",
    "    merged_summary = tf.summary.merge_all()   \n",
    "    writer.add_graph(sess.graph)\n",
    "    \n",
    "    \n",
    "    # 4. TRAINING  \n",
    "    for step in range(epochs+1):\n",
    "        _, cost = sess.run([optimiser, cross_entropy], feed_dict={x : x_train, y: y_train})\n",
    "        \n",
    "        s =  sess.run(merged_summary, feed_dict={x : x_train, y: y_train})\n",
    "        writer.add_summary(s,step) \n",
    "        \n",
    "    # 5. ACCURACY\n",
    "    print ('Accuracy = {:05.2f}'.format(sess.run(final_acc,feed_dict={x: x_test, y:y_test})),'%')\n",
    "    sess.close()"
   ]
  },
  {
   "cell_type": "code",
   "execution_count": 11,
   "metadata": {
    "collapsed": true
   },
   "outputs": [],
   "source": [
    "def make_hparam_string(learning_rate):  \n",
    "  return \"lr_%.0E\" % (learning_rate)"
   ]
  },
  {
   "cell_type": "code",
   "execution_count": 12,
   "metadata": {
    "collapsed": false
   },
   "outputs": [
    {
     "name": "stdout",
     "output_type": "stream",
     "text": [
      "Accuracy = 53.64 %\n",
      "Accuracy = 53.64 %\n",
      "Accuracy = 99.19 %\n",
      "Accuracy = 99.19 %\n"
     ]
    }
   ],
   "source": [
    "for learning_rate in [0.0001,0.001, 0.01, 0.1]:\n",
    "    \n",
    "    #Construct a hyperparameter for each learning rate (example : lr_1E-01 or lr_1E-04)\n",
    "    hparam_str = make_hparam_string(learning_rate)\n",
    "    \n",
    "    writer = tf.summary.FileWriter(\"./logs/Demo_4/\" + hparam_str)\n",
    "    \n",
    "    # Run with the new parameters\n",
    "    train_model(learning_rate, writer)"
   ]
  }
 ],
 "metadata": {
  "anaconda-cloud": {},
  "kernelspec": {
   "display_name": "Python 3",
   "language": "python",
   "name": "python3"
  },
  "language_info": {
   "codemirror_mode": {
    "name": "ipython",
    "version": 3
   },
   "file_extension": ".py",
   "mimetype": "text/x-python",
   "name": "python",
   "nbconvert_exporter": "python",
   "pygments_lexer": "ipython3",
   "version": "3.6.0"
  }
 },
 "nbformat": 4,
 "nbformat_minor": 1
}
